{
 "cells": [
  {
   "cell_type": "markdown",
   "metadata": {},
   "source": [
    "# A Bayesian Test for Cointegration\n",
    "\n",
    "## Python notebook implementation\n",
    "\n",
    "The code in this notebook is adapted from the original MATLAB implementation by Chris Bracegirdle for the paper [*Bayesian Conditional Cointegration*](http://icml.cc/2012/papers/570.pdf) presented at [*ICML 2012*](http://icml.cc/2012/)."
   ]
  },
  {
   "cell_type": "code",
   "execution_count": 1,
   "metadata": {
    "collapsed": false
   },
   "outputs": [
    {
     "data": {
      "text/plain": [
       "' Bayesian Cointegration \\nImplementation of a Bayesian test for cointegration\\n\\nWritten by Chris Bracegirdle\\n(c) Chris Bracegirdle 2015. All rights reserved.'"
      ]
     },
     "execution_count": 1,
     "metadata": {},
     "output_type": "execute_result"
    }
   ],
   "source": [
    "from random import random, normalvariate\n",
    "from numpy import sum, empty, polyfit, inf, array, isinf, where, nan, isnan, isreal\n",
    "from scipy import log, sqrt, exp, std, pi\n",
    "from scipy.misc import logsumexp\n",
    "from scipy.stats import norm \n",
    "\n",
    "\"\"\" Bayesian Cointegration \n",
    "Implementation of a Bayesian test for cointegration\n",
    "\n",
    "Written by Chris Bracegirdle\n",
    "(c) Chris Bracegirdle 2015. All rights reserved.\"\"\""
   ]
  },
  {
   "cell_type": "markdown",
   "metadata": {},
   "source": [
    "Some notebook-specific requirements here: we're going to show some plots, so let's show them inline. And for debugging, never swallow an overflow with just a warning, please numpy!"
   ]
  },
  {
   "cell_type": "code",
   "execution_count": 2,
   "metadata": {
    "collapsed": false
   },
   "outputs": [],
   "source": [
    "import matplotlib.pyplot as plt\n",
    "from numpy import seterr\n",
    "seterr(over='raise')\n",
    "%matplotlib inline"
   ]
  },
  {
   "cell_type": "markdown",
   "metadata": {},
   "source": [
    "This is a rather contrived function to randomly generate two time series, `x` and `y`, after making a random decision as to whether they are cointegrated, and generating according to the corresponding generating function"
   ]
  },
  {
   "cell_type": "code",
   "execution_count": 3,
   "metadata": {
    "collapsed": false
   },
   "outputs": [],
   "source": [
    "def GenerateData(T):\n",
    "    cointegrated = random() > 0.5\n",
    "    phi = random() * 2 - 1 if cointegrated else 1\n",
    "\n",
    "    std_eta = exp(normalvariate(0,1))\n",
    "    std_x = exp(normalvariate(0,1))\n",
    "    intercept = normalvariate(0,5)\n",
    "    slope = normalvariate(1,5)\n",
    "    #print \"Intercept\", intercept\n",
    "    #print \"Slope\", slope\n",
    "    \n",
    "    epsilon = empty([T])\n",
    "    x = empty([T])\n",
    "    y = empty([T])\n",
    "    epsilon[0] = normalvariate(0,std_eta)\n",
    "    x[0] = normalvariate(0,std_x)\n",
    "    y[0] = intercept + slope * x[0] + epsilon[0]\n",
    "    for t in range(1,T):\n",
    "        epsilon[t] = phi * epsilon[t-1] + normalvariate(0, std_eta)\n",
    "        x[t] = x[t-1] + normalvariate(0 ,std_x)\n",
    "        y[t] = intercept + slope * x[t] + epsilon[t]\n",
    "    return cointegrated,x,y"
   ]
  },
  {
   "cell_type": "markdown",
   "metadata": {},
   "source": [
    "And here's what some randomly-generated data look like. Give it a whirl!"
   ]
  },
  {
   "cell_type": "code",
   "execution_count": 4,
   "metadata": {
    "collapsed": false
   },
   "outputs": [
    {
     "name": "stdout",
     "output_type": "stream",
     "text": [
      "Cointegrated? False\n"
     ]
    },
    {
     "data": {
      "image/png": "[encoded data removed]",
      "text/plain": [
       "<matplotlib.figure.Figure at 0x7f6d2437a790>"
      ]
     },
     "metadata": {},
     "output_type": "display_data"
    }
   ],
   "source": [
    "cointegrated,x,y = GenerateData(1000)\n",
    "plt.plot(x)\n",
    "plt.plot(y)\n",
    "print \"Cointegrated?\",cointegrated"
   ]
  },
  {
   "cell_type": "code",
   "execution_count": 5,
   "metadata": {
    "collapsed": true
   },
   "outputs": [],
   "source": [
    "def LinearRegression(x,y):\n",
    "    slope, intercept = polyfit(x, y, 1)\n",
    "    std_eta = std( y - intercept - slope * x , ddof=1 )\n",
    "    return slope, intercept, std_eta"
   ]
  },
  {
   "cell_type": "code",
   "execution_count": 6,
   "metadata": {
    "collapsed": false
   },
   "outputs": [
    {
     "data": {
      "text/plain": [
       "(19.6297413653121, -48.422956376420203, 142.98613260755775)"
      ]
     },
     "execution_count": 6,
     "metadata": {},
     "output_type": "execute_result"
    }
   ],
   "source": [
    "LinearRegression(x,y)"
   ]
  },
  {
   "cell_type": "markdown",
   "metadata": {},
   "source": [
    "This is a key result from the paper: calculating the moments and area as derived in the paper"
   ]
  },
  {
   "cell_type": "code",
   "execution_count": 7,
   "metadata": {
    "collapsed": false
   },
   "outputs": [],
   "source": [
    "def CalcLogAreaLog(logf,logF):\n",
    "    lncdf = norm.logcdf([1,-1], loc=exp(logf).real, scale=exp(0.5*logF).real)\n",
    "    logarea = logsumexp([lncdf[0], lncdf[1]],b=[1, -1])-log(2)\n",
    "    return logarea\n",
    "\n",
    "def CalcMomentsLog(logf,logF,logarea):\n",
    "    lnpdf = norm.logpdf([1,-1], loc=exp(logf).real, scale=exp(0.5*logF).real)\n",
    "    logmoment1 = logsumexp([lnpdf[0]+logF-logarea, lnpdf[1]+logF-logarea, logf],b=[-0.5, 0.5, 1])\n",
    "    logmoment2 = logsumexp([logF+logf+lnpdf[0]-logarea, logF+logf+lnpdf[1]-logarea, \n",
    "                            logF+lnpdf[0]-logarea, logF+lnpdf[1]-logarea, 2*logf, logF],\n",
    "                           b=[-0.5, 0.5, \n",
    "                            -0.5, -0.5, 1, 1])\n",
    "    return exp(logmoment1).real, exp(logmoment2).real"
   ]
  },
  {
   "cell_type": "markdown",
   "metadata": {},
   "source": [
    "Now inference: filtering and the EM update routine."
   ]
  },
  {
   "cell_type": "code",
   "execution_count": 8,
   "metadata": {
    "collapsed": false
   },
   "outputs": [],
   "source": [
    "def Filtering(V,std_eta):\n",
    "    T = V.size\n",
    "        \n",
    "    # DIRECT METHOD\n",
    "    logft = log(sum(V[1:]*V[:T-1]))-log(sum(V[:T-1]**2))\n",
    "    logFt = 2*log(std_eta) - log(sum(V[:T-1]**2))\n",
    "    assert isreal(logFt), \"logFt must be real\"\n",
    "    logarea = CalcLogAreaLog(logft,logFt)\n",
    "    loglik = -0.5*log(sum(V[:T-1]**2))-0.5*(T-2)*log(2*pi*std_eta**2)+logarea  \\\n",
    "                        -(sum(V[1:]**2)-sum(V[1:]*V[:T-1])**2/sum(V[:T-1]**2))/(2*std_eta**2)\n",
    "\n",
    "    # calculate moments\n",
    "    moment1,moment2 = CalcMomentsLog(logft,logFt,logarea)\n",
    "    \n",
    "    return loglik,moment1,moment2\n",
    "\n",
    "def EMUpdate(x,y,moment1,moment2):\n",
    "    T = x.size\n",
    "    xt, xtm1 = x[1:], x[:T-1]\n",
    "    yt, ytm1 = y[1:], y[:T-1]\n",
    "    \n",
    "    # find the coefficients\n",
    "    a = 2 * (T-1) * moment1 - (T-1) * moment2 - (T-1)\n",
    "    b = moment1 * sum(xt+xtm1) - moment2 * sum(xtm1) - sum(xt)\n",
    "    c = moment2 * sum(ytm1) - moment1 * sum(yt + ytm1) + sum(yt)\n",
    "    d = 2 * moment1 * sum(xt * xtm1) - moment2 * sum(xtm1 ** 2) - sum(xt ** 2)\n",
    "    e = moment2 * sum(xtm1 * ytm1) - moment1 * sum(xtm1 * yt + xt * ytm1) + sum(xt * yt)\n",
    "        \n",
    "    # solve simultaneous equations\n",
    "    slope = ((a * e) - (c * b)) / ((b ** 2) - (a * d))\n",
    "    intercept = (-slope * d / b) - (e / b)\n",
    "\n",
    "    # now find optimal sigma\n",
    "    eps = y - intercept - slope * x\n",
    "    ept, eptm1 = eps[1:], eps[:T-1]\n",
    "    std_eta = sqrt( (sum(ept**2) - 2 * moment1 * sum( ept * eptm1)  + moment2 * sum(eptm1 ** 2)) / (T-1) )\n",
    "\n",
    "    assert std_eta>0,\"Standard deviation must be positive\"\n",
    "    assert isreal(std_eta),\"Standard deviation must be real\"\n",
    "    return slope,intercept,std_eta"
   ]
  },
  {
   "cell_type": "markdown",
   "metadata": {},
   "source": [
    "This is the real meat of the routine, simple since the inference routines are given above."
   ]
  },
  {
   "cell_type": "code",
   "execution_count": 9,
   "metadata": {
    "collapsed": true
   },
   "outputs": [],
   "source": [
    "def CointInference(epsilon,std_eta,x,y):\n",
    "    loglik,moment1,moment2 = Filtering(epsilon,std_eta)\n",
    "    slope,intercept,std_eta = EMUpdate(x,y,moment1,moment2)\n",
    "    #std_eta_with_old_regression = sqrt( (sum(epsilon[1:]**2) \\\n",
    "    #                                      - 2 * sum(moment1 * epsilon[1:] * epsilon[:-1]) \\\n",
    "    #                                      + sum(moment2 * epsilon[:-1] ** 2)) / (x.size - 1) )\n",
    "    return loglik,slope,intercept,std_eta#,std_eta_with_old_regression,moment1"
   ]
  },
  {
   "cell_type": "markdown",
   "metadata": {},
   "source": [
    "And finally, the function we'll expose to check for cointegration using the Bayesian method."
   ]
  },
  {
   "cell_type": "code",
   "execution_count": 10,
   "metadata": {
    "collapsed": true
   },
   "outputs": [],
   "source": [
    "def BayesianLearningTest(x,y):\n",
    "\n",
    "    slope, intercept, std_eta_coint = LinearRegression(x,y)\n",
    "\n",
    "    # cointegrated case - learn slope, intercept, std by ML\n",
    "    logliks = [-inf]\n",
    "    for i in range(1000):\n",
    "        assert ~isnan(intercept), \"Intercept cannot be nan\"\n",
    "        assert ~isnan(slope), \"Slope cannot be nan\"\n",
    "        assert isreal(std_eta_coint), \"Standard deviation must be real\"\n",
    "        assert std_eta_coint > 0, \"Standard deviation must be greater then 0\"\n",
    "\n",
    "        loglik_coint,slope,intercept,std_eta_coint = CointInference(y-intercept-slope*x,std_eta_coint,x,y)\n",
    "        \n",
    "        if loglik_coint-logliks[-1]<0.00001: break\n",
    "        logliks = logliks + [loglik_coint]\n",
    "    \n",
    "    # non-cointegrated case - use above slope, intercept, use ML std\n",
    "    epsilon = y-intercept-slope*x\n",
    "    std_eta_p1 = sqrt(((epsilon[1:]-epsilon[:-1])**2).mean())\n",
    "    loglik_p1 = sum(norm.logpdf(epsilon[1:], loc=epsilon[:-1], scale=std_eta_p1))\n",
    "\n",
    "    bayes_factor = exp(loglik_p1 - loglik_coint)\n",
    "    cointegrated = loglik_coint > loglik_p1\n",
    "    \n",
    "    #print \"slope,intercept\", slope,intercept\n",
    "    return loglik_p1 - loglik_coint#cointegrated"
   ]
  },
  {
   "cell_type": "markdown",
   "metadata": {},
   "source": [
    "## Bringing it all together\n",
    "Here we'll test the routine. First, generate some data to use."
   ]
  },
  {
   "cell_type": "code",
   "execution_count": 11,
   "metadata": {
    "collapsed": false
   },
   "outputs": [
    {
     "name": "stdout",
     "output_type": "stream",
     "text": [
      "Cointegrated? False\n"
     ]
    },
    {
     "data": {
      "image/png": "[encoded data removed]",
      "text/plain": [
       "<matplotlib.figure.Figure at 0x7f6cfa62ef10>"
      ]
     },
     "metadata": {},
     "output_type": "display_data"
    }
   ],
   "source": [
    "cointegrated,x,y = GenerateData(100)\n",
    "plt.plot(x)\n",
    "plt.plot(y)\n",
    "print \"Cointegrated?\",cointegrated"
   ]
  },
  {
   "cell_type": "markdown",
   "metadata": {},
   "source": [
    "And let's try the Bayesian routine to see if the result matches the truth given above when generating"
   ]
  },
  {
   "cell_type": "code",
   "execution_count": 12,
   "metadata": {
    "collapsed": false
   },
   "outputs": [
    {
     "name": "stdout",
     "output_type": "stream",
     "text": [
      "Test result: False\n",
      "Congratulations! The result of the routine matches the ground truth\n"
     ]
    }
   ],
   "source": [
    "BF = BayesianLearningTest(x,y)\n",
    "test_result = BF<0\n",
    "print \"Test result:\", test_result\n",
    "if test_result == cointegrated:\n",
    "    print \"Congratulations! The result of the routine matches the ground truth\"\n",
    "else:\n",
    "    print \"Unfortunately the routine disagreed with the ground truth\""
   ]
  },
  {
   "cell_type": "markdown",
   "metadata": {},
   "source": [
    "## Comparing with Dickey-Fuller\n",
    "\n",
    "For comparison purposes we now test for cointegration using the standard test."
   ]
  },
  {
   "cell_type": "code",
   "execution_count": 13,
   "metadata": {
    "collapsed": false
   },
   "outputs": [
    {
     "data": {
      "text/plain": [
       "False"
      ]
     },
     "execution_count": 13,
     "metadata": {},
     "output_type": "execute_result"
    }
   ],
   "source": [
    "from statsmodels.tsa.stattools import adfuller\n",
    "slope,intercept,_=LinearRegression(x,y);\n",
    "epsilon=y-intercept-slope*x;\n",
    "adf=adfuller(epsilon, maxlag=1, autolag=None, regression=\"ct\");\n",
    "pvalue = adf[1]\n",
    "cointegrated_adf = pvalue<0.05\n",
    "cointegrated_adf"
   ]
  },
  {
   "cell_type": "markdown",
   "metadata": {},
   "source": [
    "## ROC curve: Bayesian test versus Dickey Fuller\n",
    "\n",
    "Both the Bayesian learning test and the Dickey-Fuller test do the job and provide a test statistic which we compare against a threshold. To compare which test is better, we look at the ROC curve, and in particular, the AUC of the ROC. To do that, we repeatedly generate time series and perform both tests, then plot the resulting ROC curve."
   ]
  },
  {
   "cell_type": "code",
   "execution_count": 14,
   "metadata": {
    "collapsed": false
   },
   "outputs": [
    {
     "name": "stdout",
     "output_type": "stream",
     "text": [
      "Experiment 250 of 5000\n",
      "Experiment 500 of 5000\n",
      "Experiment 750 of 5000\n",
      "Experiment 1000 of 5000\n",
      "Experiment 1250 of 5000\n",
      "Experiment 1500 of 5000\n",
      "Experiment 1750 of 5000\n",
      "Experiment 2000 of 5000\n",
      "Experiment 2250 of 5000\n",
      "Experiment 2500 of 5000\n",
      "Experiment 2750 of 5000\n",
      "Experiment 3000 of 5000\n",
      "Experiment 3250 of 5000\n",
      "Experiment 3500 of 5000\n",
      "Experiment 3750 of 5000\n",
      "Experiment 4000 of 5000\n",
      "Experiment 4250 of 5000\n",
      "Experiment 4500 of 5000\n",
      "Experiment 4750 of 5000\n",
      "Experiment 5000 of 5000\n"
     ]
    }
   ],
   "source": [
    "from numpy import zeros, mod\n",
    "T=20\n",
    "experiments = 5000\n",
    "\n",
    "cointegratedActual=zeros(experiments, dtype=bool)\n",
    "logBF=zeros(experiments)\n",
    "pvalue=zeros(experiments)\n",
    "    \n",
    "for expr in range(0,experiments):\n",
    "    cointegratedActual[expr],x,y=GenerateData(T);\n",
    "\n",
    "    #classical test\n",
    "    slope,intercept,_=LinearRegression(x,y);\n",
    "    epsilon=y-intercept-slope*x;\n",
    "    adf=adfuller(epsilon, maxlag=1, autolag=None, regression=\"ct\");\n",
    "    pvalue[expr]=adf[1]\n",
    "\n",
    "    #bayesian test\n",
    "    logBF[expr]=BayesianLearningTest(x,y)\n",
    "    if mod(expr+1,experiments/20)==0:\n",
    "        print \"Experiment\",expr+1,\"of\",experiments"
   ]
  },
  {
   "cell_type": "code",
   "execution_count": 15,
   "metadata": {
    "collapsed": false
   },
   "outputs": [
    {
     "data": {
      "image/png": "[encoded data removed]",
      "text/plain": [
       "<matplotlib.figure.Figure at 0x7f6cfa0f9250>"
      ]
     },
     "metadata": {},
     "output_type": "display_data"
    },
    {
     "name": "stdout",
     "output_type": "stream",
     "text": [
      "roc_auc_DF 0.777434408799\n",
      "roc_auc_Bayes 0.884706972838\n"
     ]
    }
   ],
   "source": [
    "from sklearn.metrics import roc_curve, auc\n",
    "fpr_DF, tpr_DF, _ = roc_curve(cointegratedActual*1.0, -pvalue)\n",
    "roc_auc_DF = auc(fpr_DF, tpr_DF)\n",
    "fpr_Bayes, tpr_Bayes, _ = roc_curve(cointegratedActual*1.0, -logBF)\n",
    "roc_auc_Bayes = auc(fpr_Bayes, tpr_Bayes)\n",
    "\n",
    "plt.figure(figsize=(7,6))\n",
    "#plt.axis('equal')\n",
    "plt.plot(fpr_DF,tpr_DF)\n",
    "plt.plot(fpr_Bayes,tpr_Bayes)\n",
    "plt.legend(['DF','Bayes'])\n",
    "plt.show()\n",
    "\n",
    "print \"roc_auc_DF\",roc_auc_DF\n",
    "print \"roc_auc_Bayes\",roc_auc_Bayes"
   ]
  },
  {
   "cell_type": "markdown",
   "metadata": {
    "collapsed": true
   },
   "source": [
    "The above curve shows the efficacy of the classification of the test between cointegrated and non-cointegrated. Perfect classification occurs in the top left of the chart."
   ]
  }
 ],
 "metadata": {
  "kernelspec": {
   "display_name": "Python 2",
   "language": "python",
   "name": "python2"
  },
  "language_info": {
   "codemirror_mode": {
    "name": "ipython",
    "version": 2
   },
   "file_extension": ".py",
   "mimetype": "text/x-python",
   "name": "python",
   "nbconvert_exporter": "python",
   "pygments_lexer": "ipython2",
   "version": "2.7.11"
  }
 },
 "nbformat": 4,
 "nbformat_minor": 0
}
